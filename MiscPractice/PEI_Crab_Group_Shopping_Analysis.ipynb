{
 "cells": [
  {
   "cell_type": "markdown",
   "metadata": {},
   "source": [
    "### Analysis PEI Crab group shopping\n",
    "\n"
   ]
  },
  {
   "cell_type": "code",
   "execution_count": 1,
   "metadata": {},
   "outputs": [],
   "source": [
    "import pandas as pd\n",
    "import matplotlib.pyplot  as plt\n",
    "import seaborn as sns\n"
   ]
  },
  {
   "cell_type": "code",
   "execution_count": 2,
   "metadata": {},
   "outputs": [
    {
     "data": {
      "text/html": [
       "<div>\n",
       "<style scoped>\n",
       "    .dataframe tbody tr th:only-of-type {\n",
       "        vertical-align: middle;\n",
       "    }\n",
       "\n",
       "    .dataframe tbody tr th {\n",
       "        vertical-align: top;\n",
       "    }\n",
       "\n",
       "    .dataframe thead th {\n",
       "        text-align: right;\n",
       "    }\n",
       "</style>\n",
       "<table border=\"1\" class=\"dataframe\">\n",
       "  <thead>\n",
       "    <tr style=\"text-align: right;\">\n",
       "      <th></th>\n",
       "      <th>Box#</th>\n",
       "      <th>Weight</th>\n",
       "      <th>Deliver#</th>\n",
       "    </tr>\n",
       "    <tr>\n",
       "      <th>Item#</th>\n",
       "      <th></th>\n",
       "      <th></th>\n",
       "      <th></th>\n",
       "    </tr>\n",
       "  </thead>\n",
       "  <tbody>\n",
       "    <tr>\n",
       "      <th>1</th>\n",
       "      <td>1</td>\n",
       "      <td>672</td>\n",
       "      <td>Guoyang</td>\n",
       "    </tr>\n",
       "    <tr>\n",
       "      <th>2</th>\n",
       "      <td>1</td>\n",
       "      <td>475</td>\n",
       "      <td>Guoyang</td>\n",
       "    </tr>\n",
       "    <tr>\n",
       "      <th>3</th>\n",
       "      <td>1</td>\n",
       "      <td>531</td>\n",
       "      <td>Guoyang</td>\n",
       "    </tr>\n",
       "    <tr>\n",
       "      <th>4</th>\n",
       "      <td>1</td>\n",
       "      <td>527</td>\n",
       "      <td>Guoyang</td>\n",
       "    </tr>\n",
       "    <tr>\n",
       "      <th>5</th>\n",
       "      <td>1</td>\n",
       "      <td>618</td>\n",
       "      <td>Guoyang</td>\n",
       "    </tr>\n",
       "  </tbody>\n",
       "</table>\n",
       "</div>"
      ],
      "text/plain": [
       "       Box#  Weight Deliver#\n",
       "Item#                       \n",
       "1         1     672  Guoyang\n",
       "2         1     475  Guoyang\n",
       "3         1     531  Guoyang\n",
       "4         1     527  Guoyang\n",
       "5         1     618  Guoyang"
      ]
     },
     "execution_count": 2,
     "metadata": {},
     "output_type": "execute_result"
    }
   ],
   "source": [
    "data = pd.read_csv('PEI_Crab2020','\\t', index_col=0)\n",
    "data.head()"
   ]
  },
  {
   "cell_type": "code",
   "execution_count": 3,
   "metadata": {},
   "outputs": [
    {
     "data": {
      "text/plain": [
       "count     43.000000\n",
       "mean     537.000000\n",
       "std       97.323222\n",
       "min      374.000000\n",
       "25%      477.000000\n",
       "50%      531.000000\n",
       "75%      592.500000\n",
       "max      822.000000\n",
       "Name: Weight, dtype: float64"
      ]
     },
     "execution_count": 3,
     "metadata": {},
     "output_type": "execute_result"
    }
   ],
   "source": [
    "data['Weight'].describe()"
   ]
  },
  {
   "cell_type": "code",
   "execution_count": 10,
   "metadata": {},
   "outputs": [
    {
     "data": {
      "image/png": "[encoded data removed]",
      "text/plain": [
       "<Figure size 432x288 with 1 Axes>"
      ]
     },
     "metadata": {
      "needs_background": "light"
     },
     "output_type": "display_data"
    }
   ],
   "source": [
    "sns.boxplot(data['Weight'])\n",
    "plt.title('Single Crab Weight Info');"
   ]
  },
  {
   "cell_type": "code",
   "execution_count": 5,
   "metadata": {},
   "outputs": [
    {
     "name": "stdout",
     "output_type": "stream",
     "text": [
      "Total Weight: 23091, Total Cost:556, unit cost:0.024078645359663937\n"
     ]
    }
   ],
   "source": [
    "total_weight = data['Weight'].sum()\n",
    "total_cost = 278*2\n",
    "unit_cost = total_cost / total_weight \n",
    "\n",
    "print('Total Weight: {}, Total Cost:{}, unit cost:{}'.format(total_weight, total_cost, unit_cost))"
   ]
  },
  {
   "cell_type": "code",
   "execution_count": 6,
   "metadata": {},
   "outputs": [],
   "source": [
    "GrpData = data.groupby('Deliver#')['Weight'].agg(Total_Weight='sum',                                                  \n",
    "                                                 Crab_Count='count', \n",
    "                                                 Avg_Weight='mean',\n",
    "                                                )\n"
   ]
  },
  {
   "cell_type": "code",
   "execution_count": 7,
   "metadata": {},
   "outputs": [
    {
     "data": {
      "text/html": [
       "<div>\n",
       "<style scoped>\n",
       "    .dataframe tbody tr th:only-of-type {\n",
       "        vertical-align: middle;\n",
       "    }\n",
       "\n",
       "    .dataframe tbody tr th {\n",
       "        vertical-align: top;\n",
       "    }\n",
       "\n",
       "    .dataframe thead th {\n",
       "        text-align: right;\n",
       "    }\n",
       "</style>\n",
       "<table border=\"1\" class=\"dataframe\">\n",
       "  <thead>\n",
       "    <tr style=\"text-align: right;\">\n",
       "      <th></th>\n",
       "      <th>Total_Weight</th>\n",
       "      <th>Crab_Count</th>\n",
       "      <th>Avg_Weight</th>\n",
       "      <th>SharedExp</th>\n",
       "    </tr>\n",
       "    <tr>\n",
       "      <th>Deliver#</th>\n",
       "      <th></th>\n",
       "      <th></th>\n",
       "      <th></th>\n",
       "      <th></th>\n",
       "    </tr>\n",
       "  </thead>\n",
       "  <tbody>\n",
       "    <tr>\n",
       "      <th>Guoyang</th>\n",
       "      <td>6254</td>\n",
       "      <td>12</td>\n",
       "      <td>521.166667</td>\n",
       "      <td>150.587848</td>\n",
       "    </tr>\n",
       "    <tr>\n",
       "      <th>Jack</th>\n",
       "      <td>2995</td>\n",
       "      <td>5</td>\n",
       "      <td>599.000000</td>\n",
       "      <td>72.115543</td>\n",
       "    </tr>\n",
       "    <tr>\n",
       "      <th>Jun</th>\n",
       "      <td>2266</td>\n",
       "      <td>4</td>\n",
       "      <td>566.500000</td>\n",
       "      <td>54.562210</td>\n",
       "    </tr>\n",
       "    <tr>\n",
       "      <th>NickHu</th>\n",
       "      <td>1682</td>\n",
       "      <td>3</td>\n",
       "      <td>560.666667</td>\n",
       "      <td>40.500281</td>\n",
       "    </tr>\n",
       "    <tr>\n",
       "      <th>YangLei</th>\n",
       "      <td>1960</td>\n",
       "      <td>4</td>\n",
       "      <td>490.000000</td>\n",
       "      <td>47.194145</td>\n",
       "    </tr>\n",
       "    <tr>\n",
       "      <th>YangLei-1</th>\n",
       "      <td>1057</td>\n",
       "      <td>2</td>\n",
       "      <td>528.500000</td>\n",
       "      <td>25.451128</td>\n",
       "    </tr>\n",
       "    <tr>\n",
       "      <th>YangLei-2</th>\n",
       "      <td>1151</td>\n",
       "      <td>2</td>\n",
       "      <td>575.500000</td>\n",
       "      <td>27.714521</td>\n",
       "    </tr>\n",
       "    <tr>\n",
       "      <th>YouMi</th>\n",
       "      <td>1313</td>\n",
       "      <td>3</td>\n",
       "      <td>437.666667</td>\n",
       "      <td>31.615261</td>\n",
       "    </tr>\n",
       "    <tr>\n",
       "      <th>YuBen</th>\n",
       "      <td>2272</td>\n",
       "      <td>4</td>\n",
       "      <td>568.000000</td>\n",
       "      <td>54.706682</td>\n",
       "    </tr>\n",
       "    <tr>\n",
       "      <th>epscaobj</th>\n",
       "      <td>2141</td>\n",
       "      <td>4</td>\n",
       "      <td>535.250000</td>\n",
       "      <td>51.552380</td>\n",
       "    </tr>\n",
       "  </tbody>\n",
       "</table>\n",
       "</div>"
      ],
      "text/plain": [
       "           Total_Weight  Crab_Count  Avg_Weight   SharedExp\n",
       "Deliver#                                                   \n",
       "Guoyang            6254          12  521.166667  150.587848\n",
       "Jack               2995           5  599.000000   72.115543\n",
       "Jun                2266           4  566.500000   54.562210\n",
       "NickHu             1682           3  560.666667   40.500281\n",
       "YangLei            1960           4  490.000000   47.194145\n",
       "YangLei-1          1057           2  528.500000   25.451128\n",
       "YangLei-2          1151           2  575.500000   27.714521\n",
       "YouMi              1313           3  437.666667   31.615261\n",
       "YuBen              2272           4  568.000000   54.706682\n",
       "epscaobj           2141           4  535.250000   51.552380"
      ]
     },
     "execution_count": 7,
     "metadata": {},
     "output_type": "execute_result"
    }
   ],
   "source": [
    "GrpData['SharedExp'] = GrpData['Total_Weight']*unit_cost\n",
    "GrpData"
   ]
  },
  {
   "cell_type": "code",
   "execution_count": 8,
   "metadata": {},
   "outputs": [
    {
     "data": {
      "text/plain": [
       "555.9999999999999"
      ]
     },
     "execution_count": 8,
     "metadata": {},
     "output_type": "execute_result"
    }
   ],
   "source": [
    "GrpData['SharedExp'].sum()"
   ]
  },
  {
   "cell_type": "code",
   "execution_count": 36,
   "metadata": {},
   "outputs": [
    {
     "data": {
      "text/html": [
       "<div>\n",
       "<style scoped>\n",
       "    .dataframe tbody tr th:only-of-type {\n",
       "        vertical-align: middle;\n",
       "    }\n",
       "\n",
       "    .dataframe tbody tr th {\n",
       "        vertical-align: top;\n",
       "    }\n",
       "\n",
       "    .dataframe thead th {\n",
       "        text-align: right;\n",
       "    }\n",
       "</style>\n",
       "<table border=\"1\" class=\"dataframe\">\n",
       "  <thead>\n",
       "    <tr style=\"text-align: right;\">\n",
       "      <th></th>\n",
       "      <th>Total_Weight</th>\n",
       "      <th>Crab_Count</th>\n",
       "      <th>Avg_Weight</th>\n",
       "      <th>SharedExp</th>\n",
       "    </tr>\n",
       "  </thead>\n",
       "  <tbody>\n",
       "    <tr>\n",
       "      <th>count</th>\n",
       "      <td>10.00000</td>\n",
       "      <td>10.000000</td>\n",
       "      <td>10.000000</td>\n",
       "      <td>10.000000</td>\n",
       "    </tr>\n",
       "    <tr>\n",
       "      <th>mean</th>\n",
       "      <td>2309.10000</td>\n",
       "      <td>4.300000</td>\n",
       "      <td>538.225000</td>\n",
       "      <td>55.600000</td>\n",
       "    </tr>\n",
       "    <tr>\n",
       "      <th>std</th>\n",
       "      <td>1508.51203</td>\n",
       "      <td>2.869379</td>\n",
       "      <td>47.263708</td>\n",
       "      <td>36.322926</td>\n",
       "    </tr>\n",
       "    <tr>\n",
       "      <th>min</th>\n",
       "      <td>1057.00000</td>\n",
       "      <td>2.000000</td>\n",
       "      <td>437.666667</td>\n",
       "      <td>25.451128</td>\n",
       "    </tr>\n",
       "    <tr>\n",
       "      <th>25%</th>\n",
       "      <td>1405.25000</td>\n",
       "      <td>3.000000</td>\n",
       "      <td>523.000000</td>\n",
       "      <td>33.836516</td>\n",
       "    </tr>\n",
       "    <tr>\n",
       "      <th>50%</th>\n",
       "      <td>2050.50000</td>\n",
       "      <td>4.000000</td>\n",
       "      <td>547.958333</td>\n",
       "      <td>49.373262</td>\n",
       "    </tr>\n",
       "    <tr>\n",
       "      <th>75%</th>\n",
       "      <td>2270.50000</td>\n",
       "      <td>4.000000</td>\n",
       "      <td>567.625000</td>\n",
       "      <td>54.670564</td>\n",
       "    </tr>\n",
       "    <tr>\n",
       "      <th>max</th>\n",
       "      <td>6254.00000</td>\n",
       "      <td>12.000000</td>\n",
       "      <td>599.000000</td>\n",
       "      <td>150.587848</td>\n",
       "    </tr>\n",
       "  </tbody>\n",
       "</table>\n",
       "</div>"
      ],
      "text/plain": [
       "       Total_Weight  Crab_Count  Avg_Weight   SharedExp\n",
       "count      10.00000   10.000000   10.000000   10.000000\n",
       "mean     2309.10000    4.300000  538.225000   55.600000\n",
       "std      1508.51203    2.869379   47.263708   36.322926\n",
       "min      1057.00000    2.000000  437.666667   25.451128\n",
       "25%      1405.25000    3.000000  523.000000   33.836516\n",
       "50%      2050.50000    4.000000  547.958333   49.373262\n",
       "75%      2270.50000    4.000000  567.625000   54.670564\n",
       "max      6254.00000   12.000000  599.000000  150.587848"
      ]
     },
     "execution_count": 36,
     "metadata": {},
     "output_type": "execute_result"
    }
   ],
   "source": [
    "GrpData.describe()"
   ]
  },
  {
   "cell_type": "code",
   "execution_count": 42,
   "metadata": {},
   "outputs": [
    {
     "data": {
      "image/png": "[encoded data removed]",
      "text/plain": [
       "<Figure size 432x288 with 1 Axes>"
      ]
     },
     "metadata": {
      "needs_background": "light"
     },
     "output_type": "display_data"
    }
   ],
   "source": [
    "sns.distplot(data['Weight'])\n",
    "plt.title('Crab Weight Distribution');"
   ]
  },
  {
   "cell_type": "code",
   "execution_count": 43,
   "metadata": {},
   "outputs": [
    {
     "data": {
      "image/png": "[encoded data removed]",
      "text/plain": [
       "<Figure size 432x288 with 1 Axes>"
      ]
     },
     "metadata": {
      "needs_background": "light"
     },
     "output_type": "display_data"
    }
   ],
   "source": [
    "sns.distplot(GrpData['Avg_Weight'])\n",
    "plt.title('Avg Crab Weight Distribution');"
   ]
  },
  {
   "cell_type": "code",
   "execution_count": 12,
   "metadata": {},
   "outputs": [
    {
     "data": {
      "text/html": [
       "<div>\n",
       "<style scoped>\n",
       "    .dataframe tbody tr th:only-of-type {\n",
       "        vertical-align: middle;\n",
       "    }\n",
       "\n",
       "    .dataframe tbody tr th {\n",
       "        vertical-align: top;\n",
       "    }\n",
       "\n",
       "    .dataframe thead th {\n",
       "        text-align: right;\n",
       "    }\n",
       "</style>\n",
       "<table border=\"1\" class=\"dataframe\">\n",
       "  <thead>\n",
       "    <tr style=\"text-align: right;\">\n",
       "      <th></th>\n",
       "      <th>Box#</th>\n",
       "      <th>Weight</th>\n",
       "      <th>Deliver#</th>\n",
       "    </tr>\n",
       "    <tr>\n",
       "      <th>Item#</th>\n",
       "      <th></th>\n",
       "      <th></th>\n",
       "      <th></th>\n",
       "    </tr>\n",
       "  </thead>\n",
       "  <tbody>\n",
       "    <tr>\n",
       "      <th>1</th>\n",
       "      <td>1</td>\n",
       "      <td>672</td>\n",
       "      <td>Guoyang</td>\n",
       "    </tr>\n",
       "    <tr>\n",
       "      <th>2</th>\n",
       "      <td>1</td>\n",
       "      <td>475</td>\n",
       "      <td>Guoyang</td>\n",
       "    </tr>\n",
       "    <tr>\n",
       "      <th>3</th>\n",
       "      <td>1</td>\n",
       "      <td>531</td>\n",
       "      <td>Guoyang</td>\n",
       "    </tr>\n",
       "    <tr>\n",
       "      <th>4</th>\n",
       "      <td>1</td>\n",
       "      <td>527</td>\n",
       "      <td>Guoyang</td>\n",
       "    </tr>\n",
       "    <tr>\n",
       "      <th>5</th>\n",
       "      <td>1</td>\n",
       "      <td>618</td>\n",
       "      <td>Guoyang</td>\n",
       "    </tr>\n",
       "  </tbody>\n",
       "</table>\n",
       "</div>"
      ],
      "text/plain": [
       "       Box#  Weight Deliver#\n",
       "Item#                       \n",
       "1         1     672  Guoyang\n",
       "2         1     475  Guoyang\n",
       "3         1     531  Guoyang\n",
       "4         1     527  Guoyang\n",
       "5         1     618  Guoyang"
      ]
     },
     "execution_count": 12,
     "metadata": {},
     "output_type": "execute_result"
    }
   ],
   "source": [
    "data.head()"
   ]
  },
  {
   "cell_type": "code",
   "execution_count": 13,
   "metadata": {},
   "outputs": [
    {
     "data": {
      "text/html": [
       "<div>\n",
       "<style scoped>\n",
       "    .dataframe tbody tr th:only-of-type {\n",
       "        vertical-align: middle;\n",
       "    }\n",
       "\n",
       "    .dataframe tbody tr th {\n",
       "        vertical-align: top;\n",
       "    }\n",
       "\n",
       "    .dataframe thead th {\n",
       "        text-align: right;\n",
       "    }\n",
       "</style>\n",
       "<table border=\"1\" class=\"dataframe\">\n",
       "  <thead>\n",
       "    <tr style=\"text-align: right;\">\n",
       "      <th></th>\n",
       "      <th>Total_Weight</th>\n",
       "      <th>Crab_Count</th>\n",
       "      <th>Avg_Weight</th>\n",
       "    </tr>\n",
       "    <tr>\n",
       "      <th>Box#</th>\n",
       "      <th></th>\n",
       "      <th></th>\n",
       "      <th></th>\n",
       "    </tr>\n",
       "  </thead>\n",
       "  <tbody>\n",
       "    <tr>\n",
       "      <th>1</th>\n",
       "      <td>11689</td>\n",
       "      <td>22</td>\n",
       "      <td>531.318182</td>\n",
       "    </tr>\n",
       "    <tr>\n",
       "      <th>2</th>\n",
       "      <td>11402</td>\n",
       "      <td>21</td>\n",
       "      <td>542.952381</td>\n",
       "    </tr>\n",
       "  </tbody>\n",
       "</table>\n",
       "</div>"
      ],
      "text/plain": [
       "      Total_Weight  Crab_Count  Avg_Weight\n",
       "Box#                                      \n",
       "1            11689          22  531.318182\n",
       "2            11402          21  542.952381"
      ]
     },
     "execution_count": 13,
     "metadata": {},
     "output_type": "execute_result"
    }
   ],
   "source": [
    "data.groupby('Box#')['Weight'].agg(Total_Weight='sum',                                                  \n",
    "                                                 Crab_Count='count', \n",
    "                                                 Avg_Weight='mean',\n",
    "                                                )"
   ]
  }
 ],
 "metadata": {
  "kernelspec": {
   "display_name": "Python 3",
   "language": "python",
   "name": "python3"
  },
  "language_info": {
   "codemirror_mode": {
    "name": "ipython",
    "version": 3
   },
   "file_extension": ".py",
   "mimetype": "text/x-python",
   "name": "python",
   "nbconvert_exporter": "python",
   "pygments_lexer": "ipython3",
   "version": "3.6.9"
  }
 },
 "nbformat": 4,
 "nbformat_minor": 4
}
